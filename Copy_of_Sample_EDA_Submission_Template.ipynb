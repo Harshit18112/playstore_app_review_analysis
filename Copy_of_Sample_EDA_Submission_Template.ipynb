{
  "nbformat": 4,
  "nbformat_minor": 0,
  "metadata": {
    "colab": {
      "private_outputs": true,
      "provenance": [],
      "collapsed_sections": [
        "w6K7xa23Elo4",
        "PH-0ReGfmX4f",
        "7hBIi_osiCS2",
        "JlHwYmJAmNHm",
        "35m5QtbWiB9F",
        "PoPl-ycgm1ru",
        "H0kj-8xxnORC",
        "nA9Y7ga8ng1Z",
        "PBTbrJXOngz2",
        "u3PMJOP6ngxN",
        "448CDAPjqfQr",
        "-JiQyfWJYklI",
        "85gYPyotYoAp",
        "RoGjAbkUYoAp",
        "F6T5p64dYrdO",
        "y-Ehk30pYrdP",
        "GwzvFGzlYuh3",
        "qYpmQ266Yuh3",
        "_ouA3fa0phqN",
        "Seke61FWphqN",
        "r2jJGEOYphqO",
        "b0JNsNcRphqO",
        "eZrbJ2SmphqO",
        "rFu4xreNphqO",
        "OVtJsKN_phqQ",
        "lssrdh5qphqQ",
        "tgIPom80phqQ",
        "JMzcOPDDphqR",
        "8zGJKyg5p1ck",
        "ZWILFDl5p1ck",
        "M7G43BXep1ck",
        "gIfDvo9L0UH2"
      ]
    },
    "kernelspec": {
      "name": "python3",
      "display_name": "Python 3"
    },
    "language_info": {
      "name": "python"
    }
  },
  "cells": [
    {
      "cell_type": "markdown",
      "source": [
        "# **Project Name**    -\n",
        "###PLAY STORE APP REVIEW ANALYSIS\n"
      ],
      "metadata": {
        "id": "vncDsAP0Gaoa"
      }
    },
    {
      "cell_type": "markdown",
      "source": [
        "#### **Project Type**    - **EDA**\n",
        "#### **Contribution**    - **Individual**\n"
      ],
      "metadata": {
        "id": "beRrZCGUAJYm"
      }
    },
    {
      "cell_type": "markdown",
      "source": [
        "# **Project Summary -**"
      ],
      "metadata": {
        "id": "FJNUwmbgGyua"
      }
    },
    {
      "cell_type": "markdown",
      "source": [
        "####The project involves exploring and analyzing data from the Play Store apps, which holds substantial potential for app-making businesses. The dataset includes information about various apps, such as category, rating, size, etc. Additionally, there is another dataset containing customer reviews of Android apps. The goal is to extract actionable insights that can drive success in the Android market.\n",
        "\n",
        "####Key components of the project include:\n",
        "\n",
        "####Dataset Description: The datasets consist of information about Play Store apps and customer reviews, offering a rich source for analysis. Attributes such as category, rating, size, etc., are available for each app.\n",
        "\n",
        "####Main Libraries to be Used:\n",
        "\n",
        "####Pandas for data manipulation and aggregation.\n",
        "####Matplotlib and Seaborn for visualization, exploring at least 5 different visualizations to understand behavior with respect to the target variable.\n",
        "####NumPy for computationally efficient operations.\n",
        "####Project Architecture: The project likely involves a structured approach to data analysis. This may include steps such as data cleaning, exploration, and visualization using Pandas, Matplotlib, and Seaborn. The aim is to uncover key factors that contribute to app engagement and success in the Android market.\n",
        "\n",
        "####In summary, the project focuses on leveraging Play Store apps data to derive actionable insights for developers, with an emphasis on using key Python libraries for data manipulation and visualization to understand factors influencing app engagement and success in the Android market.\n",
        "\n",
        "\n",
        "\n",
        "\n",
        "\n"
      ],
      "metadata": {
        "id": "F6v_1wHtG2nS"
      }
    },
    {
      "cell_type": "markdown",
      "source": [
        "# **GitHub Link -**"
      ],
      "metadata": {
        "id": "w6K7xa23Elo4"
      }
    },
    {
      "cell_type": "markdown",
      "source": [
        "Provide your GitHub Link here."
      ],
      "metadata": {
        "id": "h1o69JH3Eqqn"
      }
    },
    {
      "cell_type": "markdown",
      "source": [
        "# **Problem Statement**\n"
      ],
      "metadata": {
        "id": "yQaldy8SH6Dl"
      }
    },
    {
      "cell_type": "markdown",
      "source": [
        "####In the dynamic landscape of the Android app market, extracting actionable insights from the Play Store apps data is crucial for app-making businesses to attain success. The dataset comprises valuable information about each app, encompassing attributes such as category, rating, size, and more. Additionally, a dataset containing customer reviews further enriches the available data.\n",
        "\n",
        "####The primary challenge lies in systematically exploring and analyzing this extensive dataset to identify the key factors responsible for app engagement and overall success in the Android market."
      ],
      "metadata": {
        "id": "DpeJGUA3kjGy"
      }
    },
    {
      "cell_type": "markdown",
      "source": [
        "#### **Define Your Business Objective?**"
      ],
      "metadata": {
        "id": "PH-0ReGfmX4f"
      }
    },
    {
      "cell_type": "markdown",
      "source": [
        "####My business objective is to leverage data-driven insights to guide app-making businesses in optimizing their strategies, enhancing their offerings, and ultimately achieving success in the Android app market. The project aims to bridge the gap between raw data and actionable intelligence, providing a foundation for informed decision-making and strategic positioning in the dynamic Android app ecosystem."
      ],
      "metadata": {
        "id": "PhDvGCAqmjP1"
      }
    },
    {
      "cell_type": "markdown",
      "source": [
        "# **General Guidelines** : -  "
      ],
      "metadata": {
        "id": "mDgbUHAGgjLW"
      }
    },
    {
      "cell_type": "markdown",
      "source": [
        "1.   Well-structured, formatted, and commented code is required.\n",
        "2.   Exception Handling, Production Grade Code & Deployment Ready Code will be a plus. Those students will be awarded some additional credits.\n",
        "     \n",
        "     The additional credits will have advantages over other students during Star Student selection.\n",
        "       \n",
        "             [ Note: - Deployment Ready Code is defined as, the whole .ipynb notebook should be executable in one go\n",
        "                       without a single error logged. ]\n",
        "\n",
        "3.   Each and every logic should have proper comments.\n",
        "4. You may add as many number of charts you want. Make Sure for each and every chart the following format should be answered.\n",
        "        \n",
        "\n",
        "```\n",
        "# Chart visualization code\n",
        "```\n",
        "            \n",
        "\n",
        "*   Why did you pick the specific chart?\n",
        "*   What is/are the insight(s) found from the chart?\n",
        "* Will the gained insights help creating a positive business impact?\n",
        "Are there any insights that lead to negative growth? Justify with specific reason.\n",
        "\n",
        "5. You have to create at least 20 logical & meaningful charts having important insights.\n",
        "\n",
        "\n",
        "[ Hints : - Do the Vizualization in  a structured way while following \"UBM\" Rule.\n",
        "\n",
        "U - Univariate Analysis,\n",
        "\n",
        "B - Bivariate Analysis (Numerical - Categorical, Numerical - Numerical, Categorical - Categorical)\n",
        "\n",
        "M - Multivariate Analysis\n",
        " ]\n",
        "\n",
        "\n",
        "\n"
      ],
      "metadata": {
        "id": "ZrxVaUj-hHfC"
      }
    },
    {
      "cell_type": "markdown",
      "source": [
        "# ***Let's Begin !***"
      ],
      "metadata": {
        "id": "O_i_v8NEhb9l"
      }
    },
    {
      "cell_type": "markdown",
      "source": [
        "## ***1. Know Your Data***"
      ],
      "metadata": {
        "id": "HhfV-JJviCcP"
      }
    },
    {
      "cell_type": "markdown",
      "source": [
        "### Import Libraries"
      ],
      "metadata": {
        "id": "Y3lxredqlCYt"
      }
    },
    {
      "cell_type": "code",
      "source": [
        "# Import Libraries\n",
        "import numpy as np\n",
        "import pandas as pd\n",
        "import matplotlib.pyplot as plt\n",
        "import seaborn as sns\n",
        "from datetime import datetime\n",
        "from datetime import date\n",
        "%matplotlib inline"
      ],
      "metadata": {
        "id": "M8Vqi-pPk-HR"
      },
      "execution_count": null,
      "outputs": []
    },
    {
      "cell_type": "markdown",
      "source": [
        "### For unwanted warnings"
      ],
      "metadata": {
        "id": "OHxXR_vjDr9o"
      }
    },
    {
      "cell_type": "markdown",
      "source": [
        "### Dataset Loading"
      ],
      "metadata": {
        "id": "3RnN4peoiCZX"
      }
    },
    {
      "cell_type": "code",
      "source": [
        "# Load Dataset\n",
        "# FIRST WE MOUNTING DRIVE\n",
        "from google.colab import drive\n",
        "drive.mount('/content/drive')\n",
        "\n",
        "\n",
        "#loading both data set\n",
        "path_play_store_data = '/content/Play Store Data final.csv'\n",
        "df = pd.read_csv(path_play_store_data)\n",
        "\n",
        "\n",
        "path_user_review = '/content/User Reviews (1).csv'\n",
        "df2 = pd.read_csv(path_user_review)"
      ],
      "metadata": {
        "id": "4CkvbW_SlZ_R"
      },
      "execution_count": null,
      "outputs": []
    },
    {
      "cell_type": "markdown",
      "source": [
        "### Dataset First View"
      ],
      "metadata": {
        "id": "x71ZqKXriCWQ"
      }
    },
    {
      "cell_type": "code",
      "source": [
        "# Dataset First Look of play_store_data\n",
        "df.head(7)"
      ],
      "metadata": {
        "id": "LWNFOSvLl09H"
      },
      "execution_count": null,
      "outputs": []
    },
    {
      "cell_type": "code",
      "source": [
        "# now looking for user_review\n",
        "df2.head(7)"
      ],
      "metadata": {
        "id": "i21G020UkjcX"
      },
      "execution_count": null,
      "outputs": []
    },
    {
      "cell_type": "markdown",
      "source": [
        "### Dataset Rows & Columns count"
      ],
      "metadata": {
        "id": "7hBIi_osiCS2"
      }
    },
    {
      "cell_type": "code",
      "source": [
        "# Dataset Rows & Columns count for play_store_data\n",
        "df.shape"
      ],
      "metadata": {
        "id": "Kllu7SJgmLij"
      },
      "execution_count": null,
      "outputs": []
    },
    {
      "cell_type": "code",
      "source": [
        "# Dataset Rows & Columns count for user_review\n",
        "df2.shape"
      ],
      "metadata": {
        "id": "MbxLa8KZs7_2"
      },
      "execution_count": null,
      "outputs": []
    },
    {
      "cell_type": "markdown",
      "source": [
        "### Dataset Information"
      ],
      "metadata": {
        "id": "JlHwYmJAmNHm"
      }
    },
    {
      "cell_type": "code",
      "source": [
        "# Dataset Info for play_store_data\n",
        "df.info()"
      ],
      "metadata": {
        "id": "e9hRXRi6meOf"
      },
      "execution_count": null,
      "outputs": []
    },
    {
      "cell_type": "code",
      "source": [
        "# Dataset Info for user_review\n",
        "df2.info()"
      ],
      "metadata": {
        "id": "7bY6uULMtgdj"
      },
      "execution_count": null,
      "outputs": []
    },
    {
      "cell_type": "markdown",
      "source": [
        "#### Duplicate Values"
      ],
      "metadata": {
        "id": "35m5QtbWiB9F"
      }
    },
    {
      "cell_type": "code",
      "source": [
        "# Dataset Duplicate Value Count for paly_store_data\n",
        "print(len(df[df.duplicated()]))"
      ],
      "metadata": {
        "id": "1sLdpKYkmox0"
      },
      "execution_count": null,
      "outputs": []
    },
    {
      "cell_type": "code",
      "source": [
        "# Dataset Duplicate value Count for user_review\n",
        "print(len(df2[df2.duplicated()]))"
      ],
      "metadata": {
        "id": "JyTvMAtNuWSC"
      },
      "execution_count": null,
      "outputs": []
    },
    {
      "cell_type": "markdown",
      "source": [
        "#### Missing Values/Null Values"
      ],
      "metadata": {
        "id": "PoPl-ycgm1ru"
      }
    },
    {
      "cell_type": "code",
      "source": [
        "# Missing Values/Null Values Count\n",
        "# Checking the sum of null values for each column for play_store_data\n",
        "df.isna().sum()"
      ],
      "metadata": {
        "id": "GgHWkxvamxVg"
      },
      "execution_count": null,
      "outputs": []
    },
    {
      "cell_type": "code",
      "source": [
        "#Checking the sum of null values for each column for user_review\n",
        "df2.isna().sum()"
      ],
      "metadata": {
        "id": "sA5UOuaBuxlA"
      },
      "execution_count": null,
      "outputs": []
    },
    {
      "cell_type": "code",
      "source": [
        "# Visualizing the missing values for play_store_data\n",
        "df.isna().any()"
      ],
      "metadata": {
        "id": "3q5wnI3om9sJ"
      },
      "execution_count": null,
      "outputs": []
    },
    {
      "cell_type": "code",
      "source": [
        "# Visualizing the missing values for user_review\n",
        "df2.isna().any()"
      ],
      "metadata": {
        "id": "xu0nh-SdwamD"
      },
      "execution_count": null,
      "outputs": []
    },
    {
      "cell_type": "markdown",
      "source": [
        "### What did you know about your dataset?"
      ],
      "metadata": {
        "id": "H0kj-8xxnORC"
      }
    },
    {
      "cell_type": "markdown",
      "source": [
        "* In both dataset, we saw that how many rows and coulmns is present in the each datset with the help of shape function.\n",
        "* We also saw that how much information is showing in each dataset.\n",
        "* Furthermore we see that 483 duplicate value present in play_store_data.Moreover we saw that 33616 duplicate value present in user_review dataset.\n",
        "*Also, we checked missing values/null values in each dataset and visualized the missing values in each dataset."
      ],
      "metadata": {
        "id": "gfoNAAC-nUe_"
      }
    },
    {
      "cell_type": "markdown",
      "source": [
        "## ***2. Understanding Your Variables***"
      ],
      "metadata": {
        "id": "nA9Y7ga8ng1Z"
      }
    },
    {
      "cell_type": "code",
      "source": [
        "# Columns for play_store_data\n",
        "df.columns"
      ],
      "metadata": {
        "id": "j7xfkqrt5Ag5"
      },
      "execution_count": null,
      "outputs": []
    },
    {
      "cell_type": "code",
      "source": [
        "# Columns for user_review\n",
        "df2.columns"
      ],
      "metadata": {
        "id": "NfUrdK_Y12dd"
      },
      "execution_count": null,
      "outputs": []
    },
    {
      "cell_type": "code",
      "source": [
        "# Describe for play_store_data\n",
        "df.describe()"
      ],
      "metadata": {
        "id": "DnOaZdaE5Q5t"
      },
      "execution_count": null,
      "outputs": []
    },
    {
      "cell_type": "code",
      "source": [
        "# Describe for uesr_review\n",
        "df2.describe()"
      ],
      "metadata": {
        "id": "HndOO9Zc2Zka"
      },
      "execution_count": null,
      "outputs": []
    },
    {
      "cell_type": "markdown",
      "source": [
        "### Variables Description"
      ],
      "metadata": {
        "id": "PBTbrJXOngz2"
      }
    },
    {
      "cell_type": "markdown",
      "source": [
        "We can find the data source and details here. The dataset consists of 2 tables. The first table called ‘Play Store Data.csv’ consists of 13 columns ( app, category, rating, reviews, size, installs, type, price, content rating, genres). Meanwhile, the second table called ‘googleplaystore_User_Reviews.csv’ consists of 5 columns (app, translated review, sentiment, sentiment polarity, sentiment subjectivity).\n",
        "\n",
        "Here is information on what columns represent in Play store Data :\n",
        "\n",
        "App - Indivisual name of the applications.\n",
        "\n",
        "Category - Category of each applications that available in play store.\n",
        "\n",
        "Rating - Play Store ratings for apps showing the proportional number of 1-5 star reviews, are calculated based on the app's current quality ratings from user reviews, rather than the lifetime average value of user reviews, unless the app has very few ratings.\n",
        "\n",
        "Reviews - App reviews are the individual comments users can leave under an app.\n",
        "\n",
        "Size - The amount of space required to install your app.\n",
        "Installs - The number of times the app was installed from the store regardless to any events in the past.\n",
        "\n",
        "Installs - The number of times the app was installed from the store regardless to any events in the past.\n",
        "\n",
        "Type - Type is basically represent either the app is paid or free.\n",
        "\n",
        "Price - Price is the amount to be paid if any app is not available for free.or With some apps, you can buy additional content or services within the app.\n",
        "\n",
        "Content Rating - Content ratings are used to describe the minimum maturity level of content in apps. However, content ratings don't tell you whether an app is designed for users of a specific age. Ratings are typically based on a number of factors, including sexual content, violence, drugs, gambling, and profane language.\n",
        "Genres - Google Play Store app genres refer to the different categories or types of apps available in the Google Play Store.\n",
        "\n",
        "Last Updated - It indicates the date and time when the app received its most recent update or release. App updates can include bug fixes, performance improvements, new features, design changes, or compatibility enhancements.\n",
        "\n",
        "Current Versions - The \"current versions\" of apps in the Google Play Store refer to the most up-to-date versions available for each app. App developers regularly release updates to improve the functionality, fix bugs, enhance security, and introduce new features. These updates ensure that users have access to the best possible experience with the app.\n",
        "\n",
        "Android Versions - When we refer to \"Android versions\" in the context of Google Play Store apps, it means the minimum and target Android versions specified by the app developers. Each Android app is designed to work on a specific range of Android operating system versions. The minimum Android version indicates the oldest version of the Android operating system that the app is compatible with, while the target Android version represents the version that the app is primarily optimized for.\n",
        "\n",
        "Here is information on what columns represent in User Reviews :\n",
        "\n",
        "App - User reviews in the context of apps refer to the feedback and opinions shared by individuals who have used the app. These reviews are typically found in app stores like the Apple App Store or Google Play Store, where users can rate and leave comments about their experiences with an app. User reviews play a significant role in helping other users make informed decisions about whether to download and use the app.\n",
        "\n",
        "Translated_Review - When we talk about \"user reviews translated reviews\" in the context of apps, it refers to the process of translating user reviews from one language to another. User reviews are an essential source of feedback and information for apps, and translating them allows app developers and users to understand and engage with reviews in different languages.\n",
        "\n",
        "Sentiment - Sentiment analysis in the context of user reviews refers to the process of determining the emotional tone or sentiment expressed in the reviews. It involves analyzing the text of the reviews to determine whether the sentiment conveyed is positive, negative, or neutral. This analysis can provide valuable insights into how customers perceive and feel about a product, service, or brand.\n",
        "\n",
        "Sentiment_Polarity - Sentiment analysis in the context of user reviews refers to the process of determining the emotional tone or sentiment expressed in the reviews. It involves analyzing the text of the reviews to determine whether the sentiment conveyed is positive, negative, or neutral. This analysis can provide valuable insights into how customers perceive and feel about a product, service, or brand.\n",
        "\n",
        "Sentiment_Subjectivity - Subjectivity in the context of sentiment analysis refers to the degree of personal opinion, emotion, or judgment expressed in a text. It indicates whether the text contains subjective information based on individual perspectives rather than objective facts. Subjective sentences often convey personal feelings, beliefs, or views, while objective sentences tend to present factual information."
      ],
      "metadata": {
        "id": "aJV4KIxSnxay"
      }
    },
    {
      "cell_type": "markdown",
      "source": [
        "### Check Unique Values for each variable."
      ],
      "metadata": {
        "id": "u3PMJOP6ngxN"
      }
    },
    {
      "cell_type": "code",
      "source": [
        "# Check Unique Values for each variable of play_store_data dataset\n",
        "df['App'].unique()"
      ],
      "metadata": {
        "id": "zms12Yq5n-jE"
      },
      "execution_count": null,
      "outputs": []
    },
    {
      "cell_type": "code",
      "source": [
        "df['Category'].unique()"
      ],
      "metadata": {
        "id": "QYpZyULX_3nd"
      },
      "execution_count": null,
      "outputs": []
    },
    {
      "cell_type": "code",
      "source": [
        "df['Rating'].unique()"
      ],
      "metadata": {
        "id": "EYxSdbRwAio5"
      },
      "execution_count": null,
      "outputs": []
    },
    {
      "cell_type": "code",
      "source": [
        "df['Reviews'].unique()"
      ],
      "metadata": {
        "id": "dU1h-zPJBees"
      },
      "execution_count": null,
      "outputs": []
    },
    {
      "cell_type": "code",
      "source": [
        "df['Size'].unique()"
      ],
      "metadata": {
        "id": "CTKnt5BiCBy7"
      },
      "execution_count": null,
      "outputs": []
    },
    {
      "cell_type": "code",
      "source": [
        "df['Installs'].unique()"
      ],
      "metadata": {
        "id": "c7r5NBn2Cg1S"
      },
      "execution_count": null,
      "outputs": []
    },
    {
      "cell_type": "code",
      "source": [
        "df['Type'].unique()"
      ],
      "metadata": {
        "id": "AkoRIjRSC6D4"
      },
      "execution_count": null,
      "outputs": []
    },
    {
      "cell_type": "code",
      "source": [
        "df['Price'].unique()"
      ],
      "metadata": {
        "id": "2xBlGX_XDIP6"
      },
      "execution_count": null,
      "outputs": []
    },
    {
      "cell_type": "code",
      "source": [
        "df['Content Rating'].unique()"
      ],
      "metadata": {
        "id": "gRi1APL6DShv"
      },
      "execution_count": null,
      "outputs": []
    },
    {
      "cell_type": "code",
      "source": [
        "df['Genres'].unique()"
      ],
      "metadata": {
        "id": "G6dLe8UGEHKd"
      },
      "execution_count": null,
      "outputs": []
    },
    {
      "cell_type": "code",
      "source": [
        "df['Last Updated'].unique()"
      ],
      "metadata": {
        "id": "sRBpsvD7FW1K"
      },
      "execution_count": null,
      "outputs": []
    },
    {
      "cell_type": "code",
      "source": [
        "df['Current Ver'].unique()"
      ],
      "metadata": {
        "id": "jSRORoReFgv7"
      },
      "execution_count": null,
      "outputs": []
    },
    {
      "cell_type": "code",
      "source": [
        "df['Android Ver'].unique()"
      ],
      "metadata": {
        "id": "RpZSAOZKF8-c"
      },
      "execution_count": null,
      "outputs": []
    },
    {
      "cell_type": "markdown",
      "source": [
        "## 3. ***Data Wrangling***"
      ],
      "metadata": {
        "id": "dauF4eBmngu3"
      }
    },
    {
      "cell_type": "markdown",
      "source": [
        "### Handle Missing Values"
      ],
      "metadata": {
        "id": "bKJF3rekwFvQ"
      }
    },
    {
      "cell_type": "code",
      "source": [
        "df.replace('Varies with device',np.nan,inplace = True)"
      ],
      "metadata": {
        "id": "30z7K72dg7-K"
      },
      "execution_count": null,
      "outputs": []
    },
    {
      "cell_type": "code",
      "source": [
        "df.info()"
      ],
      "metadata": {
        "id": "L7fpfvH6IOIo"
      },
      "execution_count": null,
      "outputs": []
    },
    {
      "cell_type": "markdown",
      "source": [
        "### Drop Duplicate Values"
      ],
      "metadata": {
        "id": "Ze1p6-ztIu5A"
      }
    },
    {
      "cell_type": "code",
      "source": [
        "df.shape"
      ],
      "metadata": {
        "id": "AbcXASp1I6_s"
      },
      "execution_count": null,
      "outputs": []
    },
    {
      "cell_type": "code",
      "source": [
        "df.drop_duplicates(inplace = True)"
      ],
      "metadata": {
        "id": "mt3QgFScJAlp"
      },
      "execution_count": null,
      "outputs": []
    },
    {
      "cell_type": "code",
      "source": [
        "df.isna().sum()"
      ],
      "metadata": {
        "id": "-dCIHzuYJRwp"
      },
      "execution_count": null,
      "outputs": []
    },
    {
      "cell_type": "markdown",
      "source": [
        "### Drop Duplicate Values in APP variables"
      ],
      "metadata": {
        "id": "SwWGDyMCMhp0"
      }
    },
    {
      "cell_type": "code",
      "source": [
        "df.drop_duplicates(subset='App',inplace = True)\n",
        "df['App'].duplicated().sum()"
      ],
      "metadata": {
        "id": "mVMFEMKWM-an"
      },
      "execution_count": null,
      "outputs": []
    },
    {
      "cell_type": "markdown",
      "source": [
        "#### In calculating unique values of Category i see 1.9' is wrong value. So I have to see in which rows '1.9' corresponds to."
      ],
      "metadata": {
        "id": "hKVHpbxKNbdH"
      }
    },
    {
      "cell_type": "code",
      "source": [
        "df[df['Category']=='1.9']"
      ],
      "metadata": {
        "id": "CAJKWIdkPZBI"
      },
      "execution_count": null,
      "outputs": []
    },
    {
      "cell_type": "markdown",
      "source": [
        "#### I can make NaN category value. At that time i can get a clean data. I used shift() method that is found Pandas library."
      ],
      "metadata": {
        "id": "46c9YqbTQz1E"
      }
    },
    {
      "cell_type": "code",
      "source": [
        "df.loc[10472] = df.loc[10472].shift()\n",
        "df['App'].loc[10472] = df['Category'].loc[10472]\n",
        "df['Category'].loc[10472] = np.nan\n",
        "df.loc[10472]\n"
      ],
      "metadata": {
        "id": "OD8Veh3AQ3LF"
      },
      "execution_count": null,
      "outputs": []
    },
    {
      "cell_type": "code",
      "source": [
        "df['Category'].unique()"
      ],
      "metadata": {
        "id": "gOFHzvUy_J-v"
      },
      "execution_count": null,
      "outputs": []
    },
    {
      "cell_type": "markdown",
      "source": [
        "### Fill the missing values of Rating variables by calculating the mean."
      ],
      "metadata": {
        "id": "pocvX1TI_m7o"
      }
    },
    {
      "cell_type": "code",
      "source": [
        "df['Rating'].fillna(df['Rating'].astype(float).mean(),inplace=True)"
      ],
      "metadata": {
        "id": "bofTZ2Q9A6d5"
      },
      "execution_count": null,
      "outputs": []
    },
    {
      "cell_type": "markdown",
      "source": [
        "### In case of Reviews fist replace the 'M' to '000',then 'k' to '' and '1000+' to 1000.Also convert string datatype to float."
      ],
      "metadata": {
        "id": "1y1rAvIiBS5s"
      }
    },
    {
      "cell_type": "code",
      "source": [
        "df['Reviews']=df.Reviews.str.replace(\"M\",\"000\")\n",
        "df['Reviews']=df.Reviews.str.replace(\"K\",\"\")\n",
        "df['Reviews']=df.Reviews.replace(\"1,000+\",1000)\n",
        "df['Reviews']=df['Reviews'].astype(float)\n",
        "df['Reviews'].dtype"
      ],
      "metadata": {
        "id": "IQ0cp0NlBlNY"
      },
      "execution_count": null,
      "outputs": []
    },
    {
      "cell_type": "markdown",
      "source": [
        "### In case of Size variables fist replace the 'M' to '000',then 'k' to '' and '1000+' to 1000.Also convert string datatype to float."
      ],
      "metadata": {
        "id": "GHJ6rOjHEKrJ"
      }
    },
    {
      "cell_type": "code",
      "source": [
        "df['Size']=df.Size.str.replace(\"M\",\"000\")\n",
        "df['Size']=df.Size.str.replace(\"K\",\"\")\n",
        "df['Size']=df.Size.replace(\"1,000+\",1000)\n",
        "df['Size']=df['Reviews'].astype(float)\n",
        "df['Size'].dtype"
      ],
      "metadata": {
        "id": "yhERCnF4EZ4G"
      },
      "execution_count": null,
      "outputs": []
    },
    {
      "cell_type": "markdown",
      "source": [
        "### In case of Installs variables replace ',' to ,'' and '+' to '' and 'Free' to np.nan.Also convert string datatype to float."
      ],
      "metadata": {
        "id": "e3tysg_PHNXi"
      }
    },
    {
      "cell_type": "code",
      "source": [
        "df['Installs']=df.Installs.str.replace(\",\",\"\")\n",
        "df['Installs']=df.Installs.str.replace(\"+\",\"\")\n",
        "df['Installs']=df.Installs.replace(\"Free\",np.nan)\n",
        "df['Installs']=df['Installs'].astype(float)\n",
        "df['Installs'].dtype"
      ],
      "metadata": {
        "id": "HjaqwjWMHb8Q"
      },
      "execution_count": null,
      "outputs": []
    },
    {
      "cell_type": "markdown",
      "source": [
        "### In case of Price variables replace 'Everyone to np.nan and '$' to ''.Also convert string datatype to float"
      ],
      "metadata": {
        "id": "h73Vsgf0Jm8a"
      }
    },
    {
      "cell_type": "code",
      "source": [
        "df['Price']=df.Price.str.replace(\"$\",\"\").astype(float)\n",
        "df['Price']=df.Price.replace(\"Everyone\",np.nan)\n",
        "df['Price'].dtype"
      ],
      "metadata": {
        "id": "G_X3eOw1J2Tr"
      },
      "execution_count": null,
      "outputs": []
    },
    {
      "cell_type": "markdown",
      "source": [
        "### In case of Last Updated veriable convert string datatype to datetime."
      ],
      "metadata": {
        "id": "gVOELX6JLAF_"
      }
    },
    {
      "cell_type": "code",
      "source": [
        "df['Last Updated']=pd.to_datetime(df['Last Updated'])\n",
        "df['Last Updated']"
      ],
      "metadata": {
        "id": "ETsom2CHLF09"
      },
      "execution_count": null,
      "outputs": []
    },
    {
      "cell_type": "markdown",
      "source": [
        "### Fill the missing values of Current Ver and Android Ver variables by calculating mode."
      ],
      "metadata": {
        "id": "o8h9fXZZL3vV"
      }
    },
    {
      "cell_type": "code",
      "source": [
        "df['Current Ver']=df['Current Ver'].fillna(df['Current Ver'].mode()[0])\n",
        "df['Android Ver']=df['Android Ver'].fillna(df['Android Ver'].mode()[0])"
      ],
      "metadata": {
        "id": "CNoxFJZrL6a6"
      },
      "execution_count": null,
      "outputs": []
    },
    {
      "cell_type": "markdown",
      "source": [
        "## This is our complete clean dataset of play_store_data dataframe."
      ],
      "metadata": {
        "id": "9a5p82ZJMksC"
      }
    },
    {
      "cell_type": "code",
      "source": [
        "df.info()"
      ],
      "metadata": {
        "id": "DDNNTNjgNGBX"
      },
      "execution_count": null,
      "outputs": []
    },
    {
      "cell_type": "markdown",
      "source": [
        "#Unique values of User_views"
      ],
      "metadata": {
        "id": "97asaStCNOI_"
      }
    },
    {
      "cell_type": "code",
      "source": [
        "df2['App'].unique()"
      ],
      "metadata": {
        "id": "cT9BNj9NQtDJ"
      },
      "execution_count": null,
      "outputs": []
    },
    {
      "cell_type": "code",
      "source": [
        "df2['Translated_Review'].unique()"
      ],
      "metadata": {
        "id": "1WVCInmSRSWa"
      },
      "execution_count": null,
      "outputs": []
    },
    {
      "cell_type": "code",
      "source": [
        "df2['Sentiment_Polarity'].unique()"
      ],
      "metadata": {
        "id": "8FXgsuJcRg-Y"
      },
      "execution_count": null,
      "outputs": []
    },
    {
      "cell_type": "code",
      "source": [
        "df2['Sentiment_Subjectivity'].unique()"
      ],
      "metadata": {
        "id": "_PvkDGbRRw5u"
      },
      "execution_count": null,
      "outputs": []
    },
    {
      "cell_type": "markdown",
      "source": [
        "#Data clean for user_review"
      ],
      "metadata": {
        "id": "Uhc3AlZCR9Qm"
      }
    },
    {
      "cell_type": "markdown",
      "source": [
        "### Fill the missing values of Translated Review and Sentiment by using mode value."
      ],
      "metadata": {
        "id": "9Qdd8KuSTGcq"
      }
    },
    {
      "cell_type": "code",
      "source": [
        "df2['Translated_Review']=df2['Translated_Review'].fillna(df2['Translated_Review'].mode()[0])\n",
        "df2['Sentiment']=df2['Sentiment'].fillna(df2['Sentiment'].mode()[0])"
      ],
      "metadata": {
        "id": "eBc5i2t4S_Gx"
      },
      "execution_count": null,
      "outputs": []
    },
    {
      "cell_type": "markdown",
      "source": [
        "### Fill the missing values of Sentiment Polarity and Sentiment Subjectivity by using median value and convert string datatype to float datatype."
      ],
      "metadata": {
        "id": "ZZ6PgpQrUHc4"
      }
    },
    {
      "cell_type": "code",
      "source": [
        "df2['Sentiment_Polarity']=df2['Sentiment_Polarity'].fillna(df2['Sentiment_Polarity'].astype(float).median(),inplace = True)\n",
        "df2['Sentiment_Subjectivity']=df2['Sentiment_Subjectivity'].fillna(df2['Sentiment_Subjectivity'].astype(float).median,inplace = True)\n"
      ],
      "metadata": {
        "id": "f6CmGRneUMu7"
      },
      "execution_count": null,
      "outputs": []
    },
    {
      "cell_type": "markdown",
      "source": [
        "## This is our complete clean dataset of User_review"
      ],
      "metadata": {
        "id": "FD7heChfX_SV"
      }
    },
    {
      "cell_type": "code",
      "source": [
        "df2.info()"
      ],
      "metadata": {
        "id": "qPpzfQEfabdg"
      },
      "execution_count": null,
      "outputs": []
    },
    {
      "cell_type": "markdown",
      "source": [
        "### What all manipulations have you done and insights you found?"
      ],
      "metadata": {
        "id": "MSa1f5Uengrz"
      }
    },
    {
      "cell_type": "markdown",
      "source": [
        "#### I found , I filled all the null/missing values in both dataset variables . Also I handled all miising values, and droped all unique values.  "
      ],
      "metadata": {
        "id": "h9JPGj3-YZ_3"
      }
    },
    {
      "cell_type": "markdown",
      "source": [
        "## ***4. Data Vizualization, Storytelling & Experimenting with charts : Understand the relationships between variables***"
      ],
      "metadata": {
        "id": "GF8Ens_Soomf"
      }
    },
    {
      "cell_type": "markdown",
      "source": [
        "#### Chart - 1 HOW MANY NUMBER OF APPS IN EACH CATEGORY?"
      ],
      "metadata": {
        "id": "0wOQAZs5pc--"
      }
    },
    {
      "cell_type": "code",
      "source": [
        "# Chart - 1 visualization code\n",
        "plt.figure(figsize= (8,8))\n",
        "sns.countplot(x='Category',data = df)\n",
        "plt.title('No.Of Applications In Category')\n",
        "plt.ylabel('No. Of APPS')\n",
        "plt.xticks(rotation = 90)\n",
        "plt.show()"
      ],
      "metadata": {
        "id": "7v_ESjsspbW7"
      },
      "execution_count": null,
      "outputs": []
    },
    {
      "cell_type": "markdown",
      "source": [
        "##### 1. Why did you pick the specific chart?"
      ],
      "metadata": {
        "id": "K5QZ13OEpz2H"
      }
    },
    {
      "cell_type": "markdown",
      "source": [
        "'countplot' is specifically designed for counting the occurrences of unique values in a categorical variable. It's useful when you want to understand the distribution of categorical data.That's why i chose this chart."
      ],
      "metadata": {
        "id": "XESiWehPqBRc"
      }
    },
    {
      "cell_type": "markdown",
      "source": [
        "##### 2. What is/are the insight(s) found from the chart?"
      ],
      "metadata": {
        "id": "lQ7QKXXCp7Bj"
      }
    },
    {
      "cell_type": "markdown",
      "source": [
        "With the help of this chart we get insight that the most number of people using family category app.\n",
        "The second most number of app is gaming app."
      ],
      "metadata": {
        "id": "C_j1G7yiqdRP"
      }
    },
    {
      "cell_type": "markdown",
      "source": [
        "##### 3. Will the gained insights help creating a positive business impact?\n",
        "Are there any insights that lead to negative growth? Justify with specific reason."
      ],
      "metadata": {
        "id": "448CDAPjqfQr"
      }
    },
    {
      "cell_type": "markdown",
      "source": [
        "Gained insights play a pivotal role in creating a positive business impact for a Play Store app. By understanding user behavior, preferences, and interactions, developers can enhance the overall user experience, prioritize and optimize popular features, and tailor marketing efforts to specific user segments. Swift identification and resolution of technical issues based on insights contribute to user satisfaction, preventing negative reviews. Moreover, insights guide strategic decisions, such as refining the app's monetization strategy and staying competitive in the market through continuous improvement. This data-driven approach ensures that the app evolves to meet user needs, ultimately fostering higher retention rates and positive engagement, crucial elements for long-term success on the Play Store."
      ],
      "metadata": {
        "id": "3cspy4FjqxJW"
      }
    },
    {
      "cell_type": "markdown",
      "source": [
        "#### Chart - 2    A pairwise plot between all the quantitative variables"
      ],
      "metadata": {
        "id": "KSlN3yHqYklG"
      }
    },
    {
      "cell_type": "code",
      "source": [
        "# Chart - 2 visualization code\n",
        "Rating = df['Rating']\n",
        "Size = df['Size']\n",
        "Installs = df['Installs']\n",
        "Reviews = df['Reviews']\n",
        "Type = df['Type']\n",
        "Price = df['Price']\n",
        "\n",
        "p = sns.pairplot(pd.DataFrame(list(zip(Rating, Size, np.log(Installs), np.log10(Reviews), Price, Type)),\n",
        "                        columns=['Rating','Size', 'Installs', 'Reviews', 'Price','Type']), hue='Type')\n",
        "p.fig.suptitle(\"Pairwise Plot - Rating, Size, Installs, Reviews, Price\",x=0.5, y=1.0, fontsize=16)"
      ],
      "metadata": {
        "id": "R4YgtaqtYklH"
      },
      "execution_count": null,
      "outputs": []
    },
    {
      "cell_type": "markdown",
      "source": [
        "##### 1. Why did you pick the specific chart?"
      ],
      "metadata": {
        "id": "t6dVpIINYklI"
      }
    },
    {
      "cell_type": "markdown",
      "source": [
        "'pairplot' is particularly useful for visualizing the relationships between multiple variables in a dataset. It allows you to create scatterplots for all pairs of numerical features, histograms for individual features, and kernel density estimates along the diagonal.That's why i chose this chart."
      ],
      "metadata": {
        "id": "5aaW0BYyYklI"
      }
    },
    {
      "cell_type": "markdown",
      "source": [
        "##### 2. What is/are the insight(s) found from the chart?"
      ],
      "metadata": {
        "id": "ijmpgYnKYklI"
      }
    },
    {
      "cell_type": "markdown",
      "source": [
        "A pair plot chart, or scatterplot matrix, offers valuable insights into the relationships and patterns within a dataset. By examining the scatterplots on the diagonal, one can quickly gauge the distribution and potential correlation of each variable with itself. The off-diagonal scatterplots provide a comprehensive view of multivariate relationships, aiding in the identification of patterns, dependencies, and potential outliers. Additionally, diagonal histograms offer a glimpse into the distribution shapes of individual variables, helping to detect skewed or non-normal distributions. Pair plots are instrumental in assessing collinearity among variables, guiding decisions on variable transformation, and revealing potential data clusters. In essence, this visualization tool serves as a comprehensive guide for understanding the intricacies of multivariate data, enabling data analysts to make informed decisions about variable relationships and overall data characteristics.\n"
      ],
      "metadata": {
        "id": "PSx9atu2YklI"
      }
    },
    {
      "cell_type": "markdown",
      "source": [
        "##### 3. Will the gained insights help creating a positive business impact?\n",
        "Are there any insights that lead to negative growth? Justify with specific reason."
      ],
      "metadata": {
        "id": "-JiQyfWJYklI"
      }
    },
    {
      "cell_type": "markdown",
      "source": [
        "The business impact gained from pair plots is multifaceted and pivotal for data-informed decision-making. Pair plots allow businesses to discern patterns, correlations, and outliers within their datasets, empowering them to make strategic decisions with a profound understanding of their data. By identifying relationships between variables, businesses can optimize marketing strategies, ensuring targeted and effective campaigns. Enhanced user experiences can be crafted by understanding how different features correlate with user interactions, leading to higher customer satisfaction and retention. Pair plots are instrumental in risk mitigation, allowing businesses to spot outliers early and take proactive measures. Moreover, the data-driven insights gained from pair plots guide product development efforts, ensuring that resources are directed towards features and attributes that have the most significant impact on user satisfaction and engagement. In essence, pair plots contribute to streamlined operations, improved customer experiences, and overall business success by fostering a deeper comprehension of the intricate relationships within the data."
      ],
      "metadata": {
        "id": "BcBbebzrYklV"
      }
    },
    {
      "cell_type": "markdown",
      "source": [
        "#### Chart - 3 Correlation of variable for play store data."
      ],
      "metadata": {
        "id": "EM7whBJCYoAo"
      }
    },
    {
      "cell_type": "code",
      "source": [
        "# Chart - 3 visualization code\n",
        "plt.figure(figsize = (10,10))\n",
        "sns.heatmap(df.corr(), annot= True)\n",
        "plt.title('Corelation Heatmap for Playstore Data')"
      ],
      "metadata": {
        "id": "t6GMdE67YoAp"
      },
      "execution_count": null,
      "outputs": []
    },
    {
      "cell_type": "markdown",
      "source": [
        "##### 1. Why did you pick the specific chart?"
      ],
      "metadata": {
        "id": "fge-S5ZAYoAp"
      }
    },
    {
      "cell_type": "markdown",
      "source": [
        "\n",
        "A heatmap is a type of chart commonly used in data visualization, and it is effective for representing the magnitude of a phenomenon as colors in a two-dimensional space.That's why i chose this chart."
      ],
      "metadata": {
        "id": "5dBItgRVYoAp"
      }
    },
    {
      "cell_type": "markdown",
      "source": [
        "##### 2. What is/are the insight(s) found from the chart?"
      ],
      "metadata": {
        "id": "85gYPyotYoAp"
      }
    },
    {
      "cell_type": "markdown",
      "source": [
        "A correlation heatmap visually represents the correlation matrix of a dataset, offering insights into the relationships between variables. The heatmap provides a quick overview of the strength and direction of correlations, with darker colors indicating stronger associations. This tool is valuable for identifying significant positive or negative correlations, detecting multicollinearity among independent variables, and aiding in variable selection for predictive modeling. The heatmap can reveal patterns, guide further analysis, and highlight potential outliers or changes in correlation structures over time or across different groups. However, it's crucial to remember that correlation does not imply causation, and additional statistical methods and domain knowledge are necessary for a comprehensive understanding of the data."
      ],
      "metadata": {
        "id": "4jstXR6OYoAp"
      }
    },
    {
      "cell_type": "markdown",
      "source": [
        "##### 3. Will the gained insights help creating a positive business impact?\n",
        "Are there any insights that lead to negative growth? Justify with specific reason."
      ],
      "metadata": {
        "id": "RoGjAbkUYoAp"
      }
    },
    {
      "cell_type": "markdown",
      "source": [
        "A positive business impact that can be derived from a correlation heatmap involves making informed and strategic decisions based on a deeper understanding of relationships within the data. For instance, identifying strong positive correlations between certain marketing strategies and increased sales could guide resource allocation towards those successful campaigns. The heatmap can aid in optimizing business processes by revealing correlations between different operational variables, leading to improved efficiency. In the context of customer satisfaction, finding positive correlations between specific service offerings and high customer ratings can inform targeted improvements, potentially enhancing overall customer experience. Ultimately, leveraging insights from a correlation heatmap empowers businesses to make data-driven decisions, allocate resources more effectively, and enhance overall performance and profitability.\n",
        "\n",
        "\n",
        "\n",
        "\n",
        "\n"
      ],
      "metadata": {
        "id": "zfJ8IqMcYoAp"
      }
    },
    {
      "cell_type": "markdown",
      "source": [
        "#### Chart - 4 Top categories on Google Playstore?"
      ],
      "metadata": {
        "id": "aLjnhbp2ySWI"
      }
    },
    {
      "cell_type": "code",
      "source": [
        "df.groupby(\"Category\")[\"App\"].count().sort_values(ascending= False)\n",
        "\n",
        "x = df['Category'].value_counts()\n",
        "y = df['Category'].value_counts().index\n",
        "x_list = []\n",
        "y_list = []\n",
        "for i in range(len(x)):\n",
        "    x_list.append(x[i])\n",
        "    y_list.append(y[i])"
      ],
      "metadata": {
        "id": "fCLFcB6lycKm"
      },
      "execution_count": null,
      "outputs": []
    },
    {
      "cell_type": "code",
      "source": [
        "#No. of apps belonging to each category in the playstore\n",
        "plt.figure(figsize=(20,10))\n",
        "plt.xlabel('Number of Apps')\n",
        "plt.ylabel('App Categories')\n",
        "graph = sns.barplot(y = x_list, x = y_list, palette= \"tab10\")\n",
        "graph.set_title(\"Top categories on Playstore\")\n",
        "graph.set_xticklabels(graph.get_xticklabels(), rotation= 90, horizontalalignment='right',)"
      ],
      "metadata": {
        "id": "McqBUCYHy3MW"
      },
      "execution_count": null,
      "outputs": []
    },
    {
      "cell_type": "markdown",
      "source": [
        "##### 1. Why did you pick the specific chart?\n"
      ],
      "metadata": {
        "id": "P7ecI9IS0bIb"
      }
    },
    {
      "cell_type": "markdown",
      "source": [
        "Bar plots are effective for comparing the values of different categories. Each category is represented by a bar, and the height of the bar corresponds to the value of the variable.\n",
        "Bar plots are useful for displaying the frequency distribution of categorical data. You can visualize how often each category appears in the dataset.That's why i chose this chart."
      ],
      "metadata": {
        "id": "1PaEXFPD0cs6"
      }
    },
    {
      "cell_type": "markdown",
      "source": [
        "##### 2. What is/are the insight(s) found from the chart?"
      ],
      "metadata": {
        "id": "3IK9sqaE0e8y"
      }
    },
    {
      "cell_type": "markdown",
      "source": [
        "Bar plots offer valuable insights by visually representing data in a clear and concise manner. These visualizations facilitate the comparison of different categories, allowing for the identification of trends, differences, and outliers within the dataset. Bar plots are particularly effective for showcasing the distribution of data among categories, helping to reveal patterns and trends over time or across subgroups. They serve as powerful tools for communicating complex information to both technical and non-technical audiences, making it easy to understand and interpret the relative magnitudes of various data points. Whether assessing sales performance, analyzing survey responses, or benchmarking against goals, bar plots provide a versatile and intuitive means of deriving actionable insights for informed decision-making in business contexts."
      ],
      "metadata": {
        "id": "KUoR96Be03wB"
      }
    },
    {
      "cell_type": "markdown",
      "source": [
        "##### 3. Will the gained insights help creating a positive business impact?\n",
        "Are there any insights that lead to negative growth? Justify with specific reason."
      ],
      "metadata": {
        "id": "BV3J-HA704dx"
      }
    },
    {
      "cell_type": "markdown",
      "source": [
        "Barplots can have a positive business impact by providing a clear and intuitive visualization of data, enabling effective decision-making and communication within an organization. These visual representations are particularly valuable for summarizing and comparing categorical data, such as sales performance across different products, regions, or time periods. Business leaders can quickly grasp trends, identify successful strategies, and pinpoint areas for improvement. Barplots enhance data-driven decision-making by making complex information accessible to a broader audience, facilitating discussions, and fostering a shared understanding of key business metrics. Additionally, the visual impact of barplots can be instrumental in presentations and reports, helping stakeholders absorb and retain crucial information, ultimately contributing to more informed and strategic business decisions."
      ],
      "metadata": {
        "id": "BQ0b8vCVZ89p"
      }
    },
    {
      "cell_type": "markdown",
      "source": [
        "#### Chart - 5 What is the ratio of number of Paid apps and Free apps?"
      ],
      "metadata": {
        "id": "4Of9eVA-YrdM"
      }
    },
    {
      "cell_type": "code",
      "source": [
        "# Chart - 5 visualization code\n",
        "data = df['Type'].value_counts()\n",
        "labels = ['Free', 'Paid']\n",
        "\n",
        "#pie chart\n",
        "plt.figure(figsize=(7,7))\n",
        "colors = [\"orange\",\"blue\"]\n",
        "explode=(0.01,0.1)\n",
        "plt.pie(data, labels = labels, colors = colors, autopct='%.2f%%',explode=explode)\n",
        "plt.title('Distribution of Paid and Free apps')\n",
        "plt.legend()\n"
      ],
      "metadata": {
        "id": "irlUoxc8YrdO"
      },
      "execution_count": null,
      "outputs": []
    },
    {
      "cell_type": "markdown",
      "source": [
        "##### 1. Why did you pick the specific chart?"
      ],
      "metadata": {
        "id": "iky9q4vBYrdO"
      }
    },
    {
      "cell_type": "markdown",
      "source": [
        "Pie charts are used in data visualization for specific scenarios where you want to represent the distribution of a categorical variable as a whole.That's why i chose this chart."
      ],
      "metadata": {
        "id": "aJRCwT6DYrdO"
      }
    },
    {
      "cell_type": "markdown",
      "source": [
        "##### 2. What is/are the insight(s) found from the chart?\n",
        "\n",
        "---\n",
        "\n"
      ],
      "metadata": {
        "id": "F6T5p64dYrdO"
      }
    },
    {
      "cell_type": "markdown",
      "source": [
        "Pie charts are useful for providing a visual representation of the composition of a whole, showcasing the distribution of parts as percentages of the total. They offer insights into the relative proportions of different categories within a dataset, making it easy to identify dominant or minority components. Pie charts are effective for conveying a snapshot of categorical data, such as market share, budget allocations, or demographic breakdowns. They allow viewers to quickly discern the significance of each category and understand the overall structure of the data set. However, it's important to note that pie charts are most suitable when dealing with a small number of categories, as complex datasets with numerous segments may lead to difficulties in interpretation. Despite potential limitations, pie charts offer a straightforward and accessible way to communicate proportional relationships in a visually compelling manner."
      ],
      "metadata": {
        "id": "Xx8WAJvtYrdO"
      }
    },
    {
      "cell_type": "markdown",
      "source": [
        "##### 3. Will the gained insights help creating a positive business impact?\n",
        "Are there any insights that lead to negative growth? Justify with specific reason."
      ],
      "metadata": {
        "id": "y-Ehk30pYrdP"
      }
    },
    {
      "cell_type": "markdown",
      "source": [
        "Pie charts can have a positive business impact by providing a visually engaging and easily understandable representation of the distribution of data. They are particularly effective in conveying the relative proportions of different components within a whole, making complex information more accessible to a broad audience. In business contexts, pie charts are often used to illustrate market share, budget allocations, or sales distribution across various products or regions. Their simplicity aids in quick comprehension, allowing decision-makers to identify key trends, allocate resources strategically, and make informed decisions. Additionally, pie charts can be powerful tools for presentations and reports, enhancing communication and fostering a shared understanding among stakeholders. Their visual appeal and intuitive nature contribute to more effective data communication and analysis in various business scenarios."
      ],
      "metadata": {
        "id": "jLNxxz7MYrdP"
      }
    },
    {
      "cell_type": "markdown",
      "source": [
        "#### Chart - 6 Which category of Apps from the Content Rating column are found more on playstore ?"
      ],
      "metadata": {
        "id": "bamQiAODYuh1"
      }
    },
    {
      "cell_type": "code",
      "source": [
        "# Chart - 6 visualization code\n",
        "data = df['Content Rating'].value_counts()\n",
        "labels = ['Everyone', 'Teen', 'Everyone 10+', 'Mature 17+','Adults only 18+', 'Unrated']\n",
        "\n",
        "#create pie chart\n",
        "plt.figure(figsize=(7,7))\n",
        "explode=(0,0.1,0.1,0.1,0.0,1.3)\n",
        "colors = ['C1', 'red', 'skyblue', 'green', 'purple', 'black']\n",
        "plt.pie(data, labels = labels, colors = colors, autopct='%.2f%%',explode=explode)\n",
        "plt.title('Content Rating')\n",
        "plt.legend(bbox_to_anchor=(0.9, 0, 0.5, 1))"
      ],
      "metadata": {
        "id": "TIJwrbroYuh3"
      },
      "execution_count": null,
      "outputs": []
    },
    {
      "cell_type": "markdown",
      "source": [
        "##### 1. Why did you pick the specific chart?"
      ],
      "metadata": {
        "id": "QHF8YVU7Yuh3"
      }
    },
    {
      "cell_type": "markdown",
      "source": [
        "Pie charts are used in data visualization for specific scenarios where you want to represent the distribution of a categorical variable as a whole.That's why i chose this chart."
      ],
      "metadata": {
        "id": "dcxuIMRPYuh3"
      }
    },
    {
      "cell_type": "markdown",
      "source": [
        "##### 2. What is/are the insight(s) found from the chart?"
      ],
      "metadata": {
        "id": "GwzvFGzlYuh3"
      }
    },
    {
      "cell_type": "markdown",
      "source": [
        "Pie charts are useful for providing a visual representation of the composition of a whole, showcasing the distribution of parts as percentages of the total. They offer insights into the relative proportions of different categories within a dataset, making it easy to identify dominant or minority components. Pie charts are effective for conveying a snapshot of categorical data, such as market share, budget allocations, or demographic breakdowns. They allow viewers to quickly discern the significance of each category and understand the overall structure of the data set. However, it's important to note that pie charts are most suitable when dealing with a small number of categories, as complex datasets with numerous segments may lead to difficulties in interpretation. Despite potential limitations, pie charts offer a straightforward and accessible way to communicate proportional relationships in a visually compelling manner."
      ],
      "metadata": {
        "id": "uyqkiB8YYuh3"
      }
    },
    {
      "cell_type": "markdown",
      "source": [
        "##### 3. Will the gained insights help creating a positive business impact?\n",
        "Are there any insights that lead to negative growth? Justify with specific reason."
      ],
      "metadata": {
        "id": "qYpmQ266Yuh3"
      }
    },
    {
      "cell_type": "markdown",
      "source": [
        "Pie charts can have a positive business impact by providing a visually engaging and easily understandable representation of the distribution of data. They are particularly effective in conveying the relative proportions of different components within a whole, making complex information more accessible to a broad audience. In business contexts, pie charts are often used to illustrate market share, budget allocations, or sales distribution across various products or regions. Their simplicity aids in quick comprehension, allowing decision-makers to identify key trends, allocate resources strategically, and make informed decisions. Additionally, pie charts can be powerful tools for presentations and reports, enhancing communication and fostering a shared understanding among stakeholders. Their visual appeal and intuitive nature contribute to more effective data communication and analysis in various business scenarios."
      ],
      "metadata": {
        "id": "_WtzZ_hCYuh4"
      }
    },
    {
      "cell_type": "markdown",
      "source": [
        "#### Chart - 7 Category App's have most number of installs."
      ],
      "metadata": {
        "id": "OH-pJp9IphqM"
      }
    },
    {
      "cell_type": "code",
      "source": [
        "# Chart - 7 visualization code\n",
        "a = df.groupby(['Category'])['Installs'].sum().sort_values()\n",
        "a.plot.barh(figsize=(15,10), color = 'g')\n",
        "plt.ylabel('Total app Installs')\n",
        "plt.xlabel('App Categories')\n",
        "plt.xticks()\n",
        "plt.title('Total app installs in each category')"
      ],
      "metadata": {
        "id": "kuRf4wtuphqN"
      },
      "execution_count": null,
      "outputs": []
    },
    {
      "cell_type": "markdown",
      "source": [
        "##### 1. Why did you pick the specific chart?"
      ],
      "metadata": {
        "id": "bbFf2-_FphqN"
      }
    },
    {
      "cell_type": "markdown",
      "source": [
        "Bar plots are effective for comparing the values of different categories. Each category is represented by a bar, and the height of the bar corresponds to the value of the variable. Bar plots are useful for displaying the frequency distribution of categorical data. You can visualize how often each category appears in the dataset.That's why i chose this chart."
      ],
      "metadata": {
        "id": "loh7H2nzphqN"
      }
    },
    {
      "cell_type": "markdown",
      "source": [
        "##### 2. What is/are the insight(s) found from the chart?"
      ],
      "metadata": {
        "id": "_ouA3fa0phqN"
      }
    },
    {
      "cell_type": "markdown",
      "source": [
        "Bar plots offer valuable insights by visually representing data in a clear and concise manner. These visualizations facilitate the comparison of different categories, allowing for the identification of trends, differences, and outliers within the dataset. Bar plots are particularly effective for showcasing the distribution of data among categories, helping to reveal patterns and trends over time or across subgroups. They serve as powerful tools for communicating complex information to both technical and non-technical audiences, making it easy to understand and interpret the relative magnitudes of various data points. Whether assessing sales performance, analyzing survey responses, or benchmarking against goals, bar plots provide a versatile and intuitive means of deriving actionable insights for informed decision-making in business contexts."
      ],
      "metadata": {
        "id": "VECbqPI7phqN"
      }
    },
    {
      "cell_type": "markdown",
      "source": [
        "##### 3. Will the gained insights help creating a positive business impact?\n",
        "Are there any insights that lead to negative growth? Justify with specific reason."
      ],
      "metadata": {
        "id": "Seke61FWphqN"
      }
    },
    {
      "cell_type": "markdown",
      "source": [
        "Barplots can have a positive business impact by providing a clear and intuitive visualization of data, enabling effective decision-making and communication within an organization. These visual representations are particularly valuable for summarizing and comparing categorical data, such as sales performance across different products, regions, or time periods. Business leaders can quickly grasp trends, identify successful strategies, and pinpoint areas for improvement. Barplots enhance data-driven decision-making by making complex information accessible to a broader audience, facilitating discussions, and fostering a shared understanding of key business metrics. Additionally, the visual impact of barplots can be instrumental in presentations and reports, helping stakeholders absorb and retain crucial information, ultimately contributing to more informed and strategic business decisions."
      ],
      "metadata": {
        "id": "DW4_bGpfphqN"
      }
    },
    {
      "cell_type": "markdown",
      "source": [
        "#### Chart - 8 Average rating of the apps"
      ],
      "metadata": {
        "id": "PIIx-8_IphqN"
      }
    },
    {
      "cell_type": "code",
      "source": [
        "# Chart - 8 visualization code\n",
        "df['Rating'].value_counts().plot.bar(figsize=(20,8), color = 'b' )\n",
        "plt.xlabel('Average rating')\n",
        "plt.ylabel('Number of apps')\n",
        "plt.title('Average rating of apps in Playstore')\n",
        "plt.legend()"
      ],
      "metadata": {
        "id": "lqAIGUfyphqO"
      },
      "execution_count": null,
      "outputs": []
    },
    {
      "cell_type": "markdown",
      "source": [
        "##### 1. Why did you pick the specific chart?"
      ],
      "metadata": {
        "id": "t27r6nlMphqO"
      }
    },
    {
      "cell_type": "markdown",
      "source": [
        "Bar plots are effective for comparing the values of different categories. Each category is represented by a bar, and the height of the bar corresponds to the value of the variable. Bar plots are useful for displaying the frequency distribution of categorical data. You can visualize how often each category appears in the dataset.That's why i chose this chart."
      ],
      "metadata": {
        "id": "iv6ro40sphqO"
      }
    },
    {
      "cell_type": "markdown",
      "source": [
        "##### 2. What is/are the insight(s) found from the chart?"
      ],
      "metadata": {
        "id": "r2jJGEOYphqO"
      }
    },
    {
      "cell_type": "markdown",
      "source": [
        "Bar plots offer valuable insights by visually representing data in a clear and concise manner. These visualizations facilitate the comparison of different categories, allowing for the identification of trends, differences, and outliers within the dataset. Bar plots are particularly effective for showcasing the distribution of data among categories, helping to reveal patterns and trends over time or across subgroups. They serve as powerful tools for communicating complex information to both technical and non-technical audiences, making it easy to understand and interpret the relative magnitudes of various data points. Whether assessing sales performance, analyzing survey responses, or benchmarking against goals, bar plots provide a versatile and intuitive means of deriving actionable insights for informed decision-making in business contexts."
      ],
      "metadata": {
        "id": "Po6ZPi4hphqO"
      }
    },
    {
      "cell_type": "markdown",
      "source": [
        "##### 3. Will the gained insights help creating a positive business impact?\n",
        "Are there any insights that lead to negative growth? Justify with specific reason."
      ],
      "metadata": {
        "id": "b0JNsNcRphqO"
      }
    },
    {
      "cell_type": "markdown",
      "source": [
        "Barplots can have a positive business impact by providing a clear and intuitive visualization of data, enabling effective decision-making and communication within an organization. These visual representations are particularly valuable for summarizing and comparing categorical data, such as sales performance across different products, regions, or time periods. Business leaders can quickly grasp trends, identify successful strategies, and pinpoint areas for improvement. Barplots enhance data-driven decision-making by making complex information accessible to a broader audience, facilitating discussions, and fostering a shared understanding of key business metrics. Additionally, the visual impact of barplots can be instrumental in presentations and reports, helping stakeholders absorb and retain crucial information, ultimately contributing to more informed and strategic business decisions."
      ],
      "metadata": {
        "id": "xvSq8iUTphqO"
      }
    },
    {
      "cell_type": "markdown",
      "source": [
        "#### Chart - 9 Top apps that are of free type."
      ],
      "metadata": {
        "id": "BZR9WyysphqO"
      }
    },
    {
      "cell_type": "code",
      "source": [
        "# Chart - 9 visualization code\n",
        "free_df = df[df['Type'] == 'Free']\n",
        "\n",
        "# creating top_free_df\n",
        "top_free_df = free_df[free_df['Installs'] == free_df['Installs'].max()]\n",
        "top10free_apps=top_free_df.nlargest(10, 'Installs', keep='first')\n",
        "top10free_apps.head(10)\n"
      ],
      "metadata": {
        "id": "TdPTWpAVphqO"
      },
      "execution_count": null,
      "outputs": []
    },
    {
      "cell_type": "code",
      "source": [
        "# TOP FREE APPS\n",
        "top_free_df['App']"
      ],
      "metadata": {
        "id": "2lHjU7Z3ZBKZ"
      },
      "execution_count": null,
      "outputs": []
    },
    {
      "cell_type": "code",
      "source": [
        "# Categories in which the top free apps belong to\n",
        "top_free_df['Category'].value_counts().plot.bar(figsize=(20,6), color= ('violet','blue'))\n",
        "plt.xlabel('Category')\n",
        "plt.ylabel('Number of apps')\n",
        "plt.title('Categories in which the top 20 free apps belong')\n",
        "plt.xticks(rotation=45)\n",
        "plt.legend()"
      ],
      "metadata": {
        "id": "OWZInJ9EZLKS"
      },
      "execution_count": null,
      "outputs": []
    },
    {
      "cell_type": "markdown",
      "source": [
        "##### 1. Why did you pick the specific chart?"
      ],
      "metadata": {
        "id": "jj7wYXLtphqO"
      }
    },
    {
      "cell_type": "markdown",
      "source": [
        "Bar plots are effective for comparing the values of different categories. Each category is represented by a bar, and the height of the bar corresponds to the value of the variable. Bar plots are useful for displaying the frequency distribution of categorical data. You can visualize how often each category appears in the dataset.That's why i chose this chart."
      ],
      "metadata": {
        "id": "Ob8u6rCTphqO"
      }
    },
    {
      "cell_type": "markdown",
      "source": [
        "##### 2. What is/are the insight(s) found from the chart?"
      ],
      "metadata": {
        "id": "eZrbJ2SmphqO"
      }
    },
    {
      "cell_type": "markdown",
      "source": [
        "Bar plots offer valuable insights by visually representing data in a clear and concise manner. These visualizations facilitate the comparison of different categories, allowing for the identification of trends, differences, and outliers within the dataset. Bar plots are particularly effective for showcasing the distribution of data among categories, helping to reveal patterns and trends over time or across subgroups. They serve as powerful tools for communicating complex information to both technical and non-technical audiences, making it easy to understand and interpret the relative magnitudes of various data points. Whether assessing sales performance, analyzing survey responses, or benchmarking against goals, bar plots provide a versatile and intuitive means of deriving actionable insights for informed decision-making in business contexts."
      ],
      "metadata": {
        "id": "mZtgC_hjphqO"
      }
    },
    {
      "cell_type": "markdown",
      "source": [
        "##### 3. Will the gained insights help creating a positive business impact?\n",
        "Are there any insights that lead to negative growth? Justify with specific reason."
      ],
      "metadata": {
        "id": "rFu4xreNphqO"
      }
    },
    {
      "cell_type": "markdown",
      "source": [
        "Barplots can have a positive business impact by providing a clear and intuitive visualization of data, enabling effective decision-making and communication within an organization. These visual representations are particularly valuable for summarizing and comparing categorical data, such as sales performance across different products, regions, or time periods. Business leaders can quickly grasp trends, identify successful strategies, and pinpoint areas for improvement. Barplots enhance data-driven decision-making by making complex information accessible to a broader audience, facilitating discussions, and fostering a shared understanding of key business metrics. Additionally, the visual impact of barplots can be instrumental in presentations and reports, helping stakeholders absorb and retain crucial information, ultimately contributing to more informed and strategic business decisions."
      ],
      "metadata": {
        "id": "ey_0qi68phqO"
      }
    },
    {
      "cell_type": "markdown",
      "source": [
        "#### Chart - 10 Top apps that are of paid type."
      ],
      "metadata": {
        "id": "YJ55k-q6phqO"
      }
    },
    {
      "cell_type": "code",
      "source": [
        "# Chart - 10 visualization code\n",
        "paid_df=df[df['Type']=='Paid']\n",
        "\n",
        "paid_df.groupby('Price')['App'].count().sort_values(ascending= False).plot.bar(figsize = (20,6), color = 'lightcoral')"
      ],
      "metadata": {
        "id": "B2aS4O1ophqO"
      },
      "execution_count": null,
      "outputs": []
    },
    {
      "cell_type": "markdown",
      "source": [
        "##### 1. Why did you pick the specific chart?"
      ],
      "metadata": {
        "id": "gCFgpxoyphqP"
      }
    },
    {
      "cell_type": "markdown",
      "source": [
        "Bar plots are effective for comparing the values of different categories. Each category is represented by a bar, and the height of the bar corresponds to the value of the variable. Bar plots are useful for displaying the frequency distribution of categorical data. You can visualize how often each category appears in the dataset.That's why i chose this chart."
      ],
      "metadata": {
        "id": "TVxDimi2phqP"
      }
    },
    {
      "cell_type": "markdown",
      "source": [
        "##### 2. What is/are the insight(s) found from the chart?"
      ],
      "metadata": {
        "id": "OVtJsKN_phqQ"
      }
    },
    {
      "cell_type": "markdown",
      "source": [
        "Bar plots offer valuable insights by visually representing data in a clear and concise manner. These visualizations facilitate the comparison of different categories, allowing for the identification of trends, differences, and outliers within the dataset. Bar plots are particularly effective for showcasing the distribution of data among categories, helping to reveal patterns and trends over time or across subgroups. They serve as powerful tools for communicating complex information to both technical and non-technical audiences, making it easy to understand and interpret the relative magnitudes of various data points. Whether assessing sales performance, analyzing survey responses, or benchmarking against goals, bar plots provide a versatile and intuitive means of deriving actionable insights for informed decision-making in business contexts."
      ],
      "metadata": {
        "id": "ngGi97qjphqQ"
      }
    },
    {
      "cell_type": "markdown",
      "source": [
        "##### 3. Will the gained insights help creating a positive business impact?\n",
        "Are there any insights that lead to negative growth? Justify with specific reason."
      ],
      "metadata": {
        "id": "lssrdh5qphqQ"
      }
    },
    {
      "cell_type": "markdown",
      "source": [
        "Barplots can have a positive business impact by providing a clear and intuitive visualization of data, enabling effective decision-making and communication within an organization. These visual representations are particularly valuable for summarizing and comparing categorical data, such as sales performance across different products, regions, or time periods. Business leaders can quickly grasp trends, identify successful strategies, and pinpoint areas for improvement. Barplots enhance data-driven decision-making by making complex information accessible to a broader audience, facilitating discussions, and fostering a shared understanding of key business metrics. Additionally, the visual impact of barplots can be instrumental in presentations and reports, helping stakeholders absorb and retain crucial information, ultimately contributing to more informed and strategic business decisions."
      ],
      "metadata": {
        "id": "tBpY5ekJphqQ"
      }
    },
    {
      "cell_type": "markdown",
      "source": [
        "#### Chart - 11 Percentage of Review Sentiments."
      ],
      "metadata": {
        "id": "U2RJ9gkRphqQ"
      }
    },
    {
      "cell_type": "code",
      "source": [
        "# Chart - 11 visualization code\n",
        "counts = list(df2['Sentiment'].value_counts())\n",
        "labels = 'Positive Reviews', 'Negative Reviews','Neutral Reviews'\n",
        "plt.pie(counts, labels=labels, explode=[0.01, 0.05, 0.05], shadow=True, autopct=\"%.2f%%\")\n",
        "plt.title('Percentage of Review Sentiments')\n",
        "plt.legend(bbox_to_anchor=(0.9, 0, 0.5, 1))\n",
        "plt.show()"
      ],
      "metadata": {
        "id": "GM7a4YP4phqQ"
      },
      "execution_count": null,
      "outputs": []
    },
    {
      "cell_type": "markdown",
      "source": [
        "##### 1. Why did you pick the specific chart?"
      ],
      "metadata": {
        "id": "1M8mcRywphqQ"
      }
    },
    {
      "cell_type": "markdown",
      "source": [
        "Pie charts are used in data visualization for specific scenarios where you want to represent the distribution of a categorical variable as a whole.That's why i chose this chart."
      ],
      "metadata": {
        "id": "8agQvks0phqQ"
      }
    },
    {
      "cell_type": "markdown",
      "source": [
        "##### 2. What is/are the insight(s) found from the chart?"
      ],
      "metadata": {
        "id": "tgIPom80phqQ"
      }
    },
    {
      "cell_type": "markdown",
      "source": [
        "Pie charts are useful for providing a visual representation of the composition of a whole, showcasing the distribution of parts as percentages of the total. They offer insights into the relative proportions of different categories within a dataset, making it easy to identify dominant or minority components. Pie charts are effective for conveying a snapshot of categorical data, such as market share, budget allocations, or demographic breakdowns. They allow viewers to quickly discern the significance of each category and understand the overall structure of the data set. However, it's important to note that pie charts are most suitable when dealing with a small number of categories, as complex datasets with numerous segments may lead to difficulties in interpretation. Despite potential limitations, pie charts offer a straightforward and accessible way to communicate proportional relationships in a visually compelling manner."
      ],
      "metadata": {
        "id": "Qp13pnNzphqQ"
      }
    },
    {
      "cell_type": "markdown",
      "source": [
        "##### 3. Will the gained insights help creating a positive business impact?\n",
        "Are there any insights that lead to negative growth? Justify with specific reason."
      ],
      "metadata": {
        "id": "JMzcOPDDphqR"
      }
    },
    {
      "cell_type": "markdown",
      "source": [
        "Pie charts can have a positive business impact by providing a visually engaging and easily understandable representation of the distribution of data. They are particularly effective in conveying the relative proportions of different components within a whole, making complex information more accessible to a broad audience. In business contexts, pie charts are often used to illustrate market share, budget allocations, or sales distribution across various products or regions. Their simplicity aids in quick comprehension, allowing decision-makers to identify key trends, allocate resources strategically, and make informed decisions. Additionally, pie charts can be powerful tools for presentations and reports, enhancing communication and fostering a shared understanding among stakeholders. Their visual appeal and intuitive nature contribute to more effective data communication and analysis in various business scenarios."
      ],
      "metadata": {
        "id": "R4Ka1PC2phqR"
      }
    },
    {
      "cell_type": "markdown",
      "source": [
        "#### Chart - 12 Apps with the highest number of positive reviews."
      ],
      "metadata": {
        "id": "x-EpHcCOp1ci"
      }
    },
    {
      "cell_type": "code",
      "source": [
        "# Chart - 12 visualization code\n",
        "positive_ur_df=df2[df2['Sentiment']=='Positive']\n",
        "positive_ur_df.groupby('App')['Sentiment'].value_counts().nlargest(10).plot.barh(figsize=(10,8),color='salmon').invert_yaxis()\n",
        "plt.title(\"Top 10 positive review apps\")\n",
        "plt.xlabel('Total number of positive reviews')\n",
        "plt.legend()"
      ],
      "metadata": {
        "id": "mAQTIvtqp1cj"
      },
      "execution_count": null,
      "outputs": []
    },
    {
      "cell_type": "markdown",
      "source": [
        "##### 1. Why did you pick the specific chart?"
      ],
      "metadata": {
        "id": "X_VqEhTip1ck"
      }
    },
    {
      "cell_type": "markdown",
      "source": [
        "Bar plots are effective for comparing the values of different categories. Each category is represented by a bar, and the height of the bar corresponds to the value of the variable. Bar plots are useful for displaying the frequency distribution of categorical data. You can visualize how often each category appears in the dataset.That's why i chose this chart."
      ],
      "metadata": {
        "id": "-vsMzt_np1ck"
      }
    },
    {
      "cell_type": "markdown",
      "source": [
        "##### 2. What is/are the insight(s) found from the chart?"
      ],
      "metadata": {
        "id": "8zGJKyg5p1ck"
      }
    },
    {
      "cell_type": "markdown",
      "source": [
        "Bar plots offer valuable insights by visually representing data in a clear and concise manner. These visualizations facilitate the comparison of different categories, allowing for the identification of trends, differences, and outliers within the dataset. Bar plots are particularly effective for showcasing the distribution of data among categories, helping to reveal patterns and trends over time or across subgroups. They serve as powerful tools for communicating complex information to both technical and non-technical audiences, making it easy to understand and interpret the relative magnitudes of various data points. Whether assessing sales performance, analyzing survey responses, or benchmarking against goals, bar plots provide a versatile and intuitive means of deriving actionable insights for informed decision-making in business contexts."
      ],
      "metadata": {
        "id": "ZYdMsrqVp1ck"
      }
    },
    {
      "cell_type": "markdown",
      "source": [
        "##### 3. Will the gained insights help creating a positive business impact?\n",
        "Are there any insights that lead to negative growth? Justify with specific reason."
      ],
      "metadata": {
        "id": "PVzmfK_Ep1ck"
      }
    },
    {
      "cell_type": "markdown",
      "source": [
        "Barplots can have a positive business impact by providing a clear and intuitive visualization of data, enabling effective decision-making and communication within an organization. These visual representations are particularly valuable for summarizing and comparing categorical data, such as sales performance across different products, regions, or time periods. Business leaders can quickly grasp trends, identify successful strategies, and pinpoint areas for improvement. Barplots enhance data-driven decision-making by making complex information accessible to a broader audience, facilitating discussions, and fostering a shared understanding of key business metrics. Additionally, the visual impact of barplots can be instrumental in presentations and reports, helping stakeholders absorb and retain crucial information, ultimately contributing to more informed and strategic business decisions."
      ],
      "metadata": {
        "id": "druuKYZpp1ck"
      }
    },
    {
      "cell_type": "markdown",
      "source": [
        "#### Chart - 13 Apps with the highest number of negative reviews."
      ],
      "metadata": {
        "id": "n3dbpmDWp1ck"
      }
    },
    {
      "cell_type": "code",
      "source": [
        "# Chart - 13 visualization code\n",
        "negative_ur_df=df2[df2['Sentiment']=='Negative']\n",
        "negative_ur_df.groupby('App')['Sentiment'].value_counts().nlargest(10).plot.barh(figsize=(15,8),color='tomato').invert_yaxis()\n",
        "plt.title(\"Top 10 negative review apps\")\n",
        "plt.xlabel('Total number of negative reviews')\n",
        "plt.legend()"
      ],
      "metadata": {
        "id": "bwevp1tKp1ck"
      },
      "execution_count": null,
      "outputs": []
    },
    {
      "cell_type": "markdown",
      "source": [
        "##### 1. Why did you pick the specific chart?"
      ],
      "metadata": {
        "id": "ylSl6qgtp1ck"
      }
    },
    {
      "cell_type": "markdown",
      "source": [
        "Bar plots are effective for comparing the values of different categories. Each category is represented by a bar, and the height of the bar corresponds to the value of the variable. Bar plots are useful for displaying the frequency distribution of categorical data. You can visualize how often each category appears in the dataset.That's why i chose this chart."
      ],
      "metadata": {
        "id": "m2xqNkiQp1ck"
      }
    },
    {
      "cell_type": "markdown",
      "source": [
        "##### 2. What is/are the insight(s) found from the chart?"
      ],
      "metadata": {
        "id": "ZWILFDl5p1ck"
      }
    },
    {
      "cell_type": "markdown",
      "source": [
        "Bar plots offer valuable insights by visually representing data in a clear and concise manner. These visualizations facilitate the comparison of different categories, allowing for the identification of trends, differences, and outliers within the dataset. Bar plots are particularly effective for showcasing the distribution of data among categories, helping to reveal patterns and trends over time or across subgroups. They serve as powerful tools for communicating complex information to both technical and non-technical audiences, making it easy to understand and interpret the relative magnitudes of various data points. Whether assessing sales performance, analyzing survey responses, or benchmarking against goals, bar plots provide a versatile and intuitive means of deriving actionable insights for informed decision-making in business contexts."
      ],
      "metadata": {
        "id": "x-lUsV2mp1ck"
      }
    },
    {
      "cell_type": "markdown",
      "source": [
        "##### 3. Will the gained insights help creating a positive business impact?\n",
        "Are there any insights that lead to negative growth? Justify with specific reason."
      ],
      "metadata": {
        "id": "M7G43BXep1ck"
      }
    },
    {
      "cell_type": "markdown",
      "source": [
        "Barplots can have a positive business impact by providing a clear and intuitive visualization of data, enabling effective decision-making and communication within an organization. These visual representations are particularly valuable for summarizing and comparing categorical data, such as sales performance across different products, regions, or time periods. Business leaders can quickly grasp trends, identify successful strategies, and pinpoint areas for improvement. Barplots enhance data-driven decision-making by making complex information accessible to a broader audience, facilitating discussions, and fostering a shared understanding of key business metrics. Additionally, the visual impact of barplots can be instrumental in presentations and reports, helping stakeholders absorb and retain crucial information, ultimately contributing to more informed and strategic business decisions."
      ],
      "metadata": {
        "id": "5wwDJXsLp1cl"
      }
    },
    {
      "cell_type": "markdown",
      "source": [
        "## **5. Solution to Business Objective**"
      ],
      "metadata": {
        "id": "JcMwzZxoAimU"
      }
    },
    {
      "cell_type": "markdown",
      "source": [
        "#### What do you suggest the client to achieve Business Objective ?\n",
        "Explain Briefly.\n",
        "\n"
      ],
      "metadata": {
        "id": "8G2x9gOozGDZ"
      }
    },
    {
      "cell_type": "markdown",
      "source": [
        " From my opinion , i would suggest do all these things for positive impact :\n",
        "\n",
        "1. Monitor Analytics:\n",
        "\n",
        "Use analytics tools to track user behavior within the app. Understand where users drop off and make improvements to enhance the user experience.\n",
        "\n",
        "2. Encourage Positive Reviews:\n",
        "\n",
        "Encourage satisfied users to leave positive reviews. Positive reviews not only boost your app's credibility but also improve its visibility in the app store.\n",
        "\n",
        "3. Utilize Social Media:\n",
        "\n",
        "Leverage social media platforms to create awareness about your app. Share updates, features, and engage with your audience on platforms like Twitter, Facebook, and Instagram.\n",
        "\n",
        "4. Run Targeted Marketing Campaigns:\n",
        "\n",
        "Use digital marketing channels such as Google Ads, Facebook Ads, or other platforms to target specific user demographics and drive installations.\n",
        "\n",
        "5. Focus on User Retention:\n",
        "\n",
        "Regularly update your app with new features and improvements to keep users engaged.\n",
        "Implement push notifications wisely to re-engage users without being intrusive.\n",
        "\n",
        "6. Collaborate with Influencers:\n",
        "\n",
        "Nowdays you see influencers gets more attraction from user side so,Partner with influencers or bloggers who can reach your target audience and promote your app.\n",
        "\n",
        "\n"
      ],
      "metadata": {
        "id": "pASKb0qOza21"
      }
    },
    {
      "cell_type": "markdown",
      "source": [
        "# **Conclusion**"
      ],
      "metadata": {
        "id": "gCX9965dhzqZ"
      }
    },
    {
      "cell_type": "markdown",
      "source": [
        "1.Rating\n",
        "\n",
        "Most of the apps have rating in between 4 and 5.\n",
        "\n",
        "Most numbers of apps are rated at 4.3\n",
        "\n",
        "Categories of apps have more than 4 average rating.item\n",
        "\n",
        "2.Size\n",
        "\n",
        "Maximum number of applications present in the dataset are of small size.\n",
        "\n",
        "3.Installs\n",
        "\n",
        "Majority of the apps come into these three categories, Family, Game, and Tools.\n",
        "\n",
        "Maximum number of apps present in google play store come under Family, Game and tools but as per the installation and requirement in the market plot, scenario is not the same. Maximum installed apps comes under Game, Communication, Productivity and Social.\n",
        "\n",
        "Subway Surfers, Facebook, Messenger and Google Drive are the most installed apps.\n",
        "\n",
        "4.Type(Free/Paid)\n",
        "\n",
        "About 92% apps are free and 8% apps are of paid type.\n",
        "\n",
        "The category ‘Family’ has the highest number of paid apps.\n",
        "\n",
        "Free apps are installed more than paid apps.\n",
        "\n",
        "The app “I’m Rich — Trump Edition” from the category ‘Lifestyle’ is the most costly app priced at $400\n",
        "\n",
        "5.Content Rating\n",
        "\n",
        "Content having Everyone only has most installs, while unrated and Adults only 18+ have less installs.\n",
        "\n",
        "6.Reviews\n",
        "\n",
        "Number of installs is positively correlated with reviews with correlation 0.64. Sentiment Analysis\n",
        "\n",
        "7.Sentiment\n",
        "\n",
        "Most of the reviews are of Positive Sentiment, while Negative and Neutral have low number of reviews.\n",
        "\n",
        "8.Sentiment Polarity / Sentiment Subjectivity\n",
        "\n",
        "Collection of reviews shows a wide range of subjectivity and most of the reviews fall in [-0.50,0.75] polarity scale implying that the extremely negative or positive sentiments are significantly low. Most of the reviews show a mid-range of negative and positive sentiments.\n",
        "\n",
        "Sentiment subjectivity is not always proportional to sentiment polarity but in maximum number of case, shows a proportional behavior, when variance is too high or low."
      ],
      "metadata": {
        "id": "Fjb1IsQkh3yE"
      }
    },
    {
      "cell_type": "markdown",
      "source": [
        "### ***Hurrah! You have successfully completed your EDA Capstone Project !!!***"
      ],
      "metadata": {
        "id": "gIfDvo9L0UH2"
      }
    }
  ]
}